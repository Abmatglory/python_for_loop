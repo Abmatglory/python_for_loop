{
 "cells": [
  {
   "cell_type": "markdown",
   "metadata": {},
   "source": [
    "# TOPIC: FOR LOOP Based Problem"
   ]
  },
  {
   "cell_type": "markdown",
   "metadata": {},
   "source": [
    "# Basic Level:"
   ]
  },
  {
   "cell_type": "markdown",
   "metadata": {},
   "source": [
    "# 1. Write a Python program to print the numbers from l to 10 using a 'for' loop."
   ]
  },
  {
   "cell_type": "code",
   "execution_count": 1,
   "metadata": {},
   "outputs": [
    {
     "name": "stdout",
     "output_type": "stream",
     "text": [
      "1\n",
      "2\n",
      "3\n",
      "4\n",
      "5\n",
      "6\n",
      "7\n",
      "8\n",
      "9\n",
      "10\n"
     ]
    }
   ],
   "source": [
    "for i in range(1,11):\n",
    "    print(i)"
   ]
  },
  {
   "cell_type": "markdown",
   "metadata": {},
   "source": [
    "# 2. Create a program that calculates the sum of all numbers in a list using a 'for' loop."
   ]
  },
  {
   "cell_type": "code",
   "execution_count": 2,
   "metadata": {},
   "outputs": [
    {
     "name": "stdout",
     "output_type": "stream",
     "text": [
      "The sum of all numbers in a list [1, 2, 3, 4, 5, 6] is : 21\n"
     ]
    }
   ],
   "source": [
    "a2 = [ 1,2,3,4,5,6]\n",
    "\n",
    "sum_num = 0\n",
    "\n",
    "for x in a2:\n",
    "    sum_num += x\n",
    "\n",
    "print(f\"The sum of all numbers in a list {a2} is : {sum_num}\")\n",
    "    "
   ]
  },
  {
   "cell_type": "markdown",
   "metadata": {},
   "source": [
    "# 3. Write a program to print the characters of a string in reverse order using a 'for' loop.\n"
   ]
  },
  {
   "cell_type": "code",
   "execution_count": 3,
   "metadata": {},
   "outputs": [
    {
     "name": "stdout",
     "output_type": "stream",
     "text": [
      "k\n",
      "e\n",
      "h\n",
      "s\n",
      "i\n",
      "h\n",
      "b\n",
      "a\n"
     ]
    }
   ],
   "source": [
    "a3 = 'abhishek'\n",
    "\n",
    "for i in range((len(a3)-1),-1,-1):\n",
    "    print(a3[i])"
   ]
  },
  {
   "cell_type": "markdown",
   "metadata": {},
   "source": [
    "# 4. Develop a program that finds the factorial of a given number using a 'for' loop."
   ]
  },
  {
   "cell_type": "code",
   "execution_count": 4,
   "metadata": {},
   "outputs": [
    {
     "name": "stdout",
     "output_type": "stream",
     "text": [
      "Factorial of 5 is : 120\n"
     ]
    }
   ],
   "source": [
    "n =5         # Have to calculate factorial of 5\n",
    "\n",
    "factorial = 1          # initialize the value\n",
    "\n",
    "for i in range(1,(n+1)):       \n",
    "    factorial *= i\n",
    "    \n",
    "print(f\"Factorial of {n} is : {factorial}\")\n",
    "    "
   ]
  },
  {
   "cell_type": "markdown",
   "metadata": {},
   "source": [
    "# 5. Create a program to print the multiplication table of a given number using a 'for' loop.\n"
   ]
  },
  {
   "cell_type": "code",
   "execution_count": 5,
   "metadata": {},
   "outputs": [
    {
     "name": "stdout",
     "output_type": "stream",
     "text": [
      "Multiplication Table of 5\n",
      "----------------------------\n",
      " 5 * 1  = 5\n",
      " 5 * 2  = 10\n",
      " 5 * 3  = 15\n",
      " 5 * 4  = 20\n",
      " 5 * 5  = 25\n"
     ]
    }
   ],
   "source": [
    "n = 5             # multiplication table\n",
    "\n",
    "print(f\"Multiplication Table of {n}\")\n",
    "print(\"----------------------------\")\n",
    "for i in range(1,(n+1)):\n",
    "    print (f\" {n} * {i}  = {n*i }\")"
   ]
  },
  {
   "cell_type": "markdown",
   "metadata": {},
   "source": [
    "# 6. Write a program that counts the number of even and odd numbers in a list using a 'for' loop."
   ]
  },
  {
   "cell_type": "code",
   "execution_count": 6,
   "metadata": {},
   "outputs": [
    {
     "name": "stdout",
     "output_type": "stream",
     "text": [
      "There are 8 even numbers and 11 odd numners in your list [1, 2, 3, 4, 5, 5, 5, 5, 6, 7, 8, 9, 10, 12, 1, 42, 45, 43, 46]\n"
     ]
    }
   ],
   "source": [
    "a6 = [ 1,2,3,4,5,5,5,5,6,7,8,9,10,12,1,42,45,43,46]    # Given list\n",
    "\n",
    "even_count = 0\n",
    "odd_count = 0\n",
    "\n",
    "for x in a6:\n",
    "    if x % 2 == 0:\n",
    "        even_count += 1\n",
    "    elif x % 2 == 1:\n",
    "        odd_count += 1\n",
    "\n",
    "print(f\"There are {even_count} even numbers and {odd_count} odd numners in your list {a6}\")\n",
    "        \n",
    "        "
   ]
  },
  {
   "cell_type": "markdown",
   "metadata": {},
   "source": [
    "# 7. Develop a program that prints the squares of numbers from l to  5 using a 'for' loop.\n"
   ]
  },
  {
   "cell_type": "code",
   "execution_count": 7,
   "metadata": {},
   "outputs": [
    {
     "name": "stdout",
     "output_type": "stream",
     "text": [
      "Square of a numbers from 1 to 5\n",
      "-------------------------------\n",
      " Square of 1  = 1\n",
      " Square of 2  = 4\n",
      " Square of 3  = 9\n",
      " Square of 4  = 16\n",
      " Square of 5  = 25\n"
     ]
    }
   ],
   "source": [
    "n  = 5        # square of a number up to n\n",
    "\n",
    "print(f\"Square of a numbers from 1 to {n}\")\n",
    "print(\"-------------------------------\")\n",
    "for i in range(1,(n+1)):\n",
    "    print (f\" Square of {i}  = {i*i }\")\n"
   ]
  },
  {
   "cell_type": "markdown",
   "metadata": {},
   "source": [
    "# 8. Create a program to find the length of a string without using the 'len()' function."
   ]
  },
  {
   "cell_type": "code",
   "execution_count": 8,
   "metadata": {},
   "outputs": [
    {
     "name": "stdout",
     "output_type": "stream",
     "text": [
      "The length of string 'abhishek' is 8\n"
     ]
    }
   ],
   "source": [
    "a8 = 'abhishek'           # Given string\n",
    "\n",
    "string_length = 0         # initialize the value\n",
    "\n",
    "for x in a8:\n",
    "    string_length += 1\n",
    "    \n",
    "print(f\"The length of string \\'{a8}\\' is {string_length}\")    \n",
    "    "
   ]
  },
  {
   "cell_type": "markdown",
   "metadata": {},
   "source": [
    "# 9. Write a program that calculates the average of a list of numbers using a 'for' loop."
   ]
  },
  {
   "cell_type": "code",
   "execution_count": 9,
   "metadata": {},
   "outputs": [
    {
     "name": "stdout",
     "output_type": "stream",
     "text": [
      "The average of a list [1, 2, 3, 4, 5, 5, 5, 5, 6, 7, 8, 9, 10, 12, 1, 42, 45, 43, 46] of numbers is 13.63\n"
     ]
    }
   ],
   "source": [
    "# Average of a list of numbers is ( sum of a list of numbers) / ( count of numbers in list)\n",
    "\n",
    "a9 = [ 1,2,3,4,5,5,5,5,6,7,8,9,10,12,1,42,45,43,46]    # Given list\n",
    "\n",
    "count = 0\n",
    "sum_num = 0\n",
    "\n",
    "for x in a9:\n",
    "    count += 1\n",
    "    sum_num += x\n",
    "    \n",
    "result_avg = round((sum_num/count),2)    # rounding the result by 2 decimal place\n",
    "\n",
    "print(f\"The average of a list {a9} of numbers is {result_avg}\")\n",
    "\n"
   ]
  },
  {
   "cell_type": "markdown",
   "metadata": {},
   "source": [
    "# 10. Develop a program that prints the first'n' Fibonacci numbers using a 'for' loop.\n",
    "\n"
   ]
  },
  {
   "cell_type": "markdown",
   "metadata": {},
   "source": [
    "Fibonacci numbers, is defined as the sequence of numbers in which each number in the sequence is equal to the sum of two numbers before it. The Fibonacci Sequence is given as: Fibonacci Sequence = 0, 1, 1, 2, 3, 5, 8, 13, 21, 34"
   ]
  },
  {
   "cell_type": "code",
   "execution_count": 10,
   "metadata": {},
   "outputs": [
    {
     "name": "stdout",
     "output_type": "stream",
     "text": [
      "The first 15 Fibonacci numbers \n",
      "----------------------------------\n",
      "0\n",
      "1\n",
      "1\n",
      "2\n",
      "3\n",
      "5\n",
      "8\n",
      "13\n",
      "21\n",
      "34\n",
      "55\n",
      "89\n",
      "144\n",
      "233\n",
      "377\n"
     ]
    }
   ],
   "source": [
    "n = 15           #  the first'n' Fibonacci numbers\n",
    "\n",
    "print(f\"The first {n} Fibonacci numbers \")\n",
    "print(\"----------------------------------\")\n",
    "\n",
    "fibonacci_list = []        # to store Fibonacci numbers\n",
    "for i in range(n):\n",
    "    if i < 2 :      \n",
    "        fibonacci_list.append(i)\n",
    "        print(i)\n",
    "    else :\n",
    "        num = fibonacci_list[i-1] + fibonacci_list[i-2]\n",
    "        fibonacci_list.append(num)\n",
    "        print(num)"
   ]
  },
  {
   "cell_type": "markdown",
   "metadata": {},
   "source": [
    "# Intermediate Level:\n",
    "    \n",
    "    \n",
    "    "
   ]
  },
  {
   "cell_type": "markdown",
   "metadata": {},
   "source": [
    "# 11. Write a program to check if a given list contains any duplicates using a 'for' loop."
   ]
  },
  {
   "cell_type": "code",
   "execution_count": 11,
   "metadata": {},
   "outputs": [
    {
     "name": "stdout",
     "output_type": "stream",
     "text": [
      "Given list contains duplicates and fist duplicate in the list is : 5\n"
     ]
    }
   ],
   "source": [
    "a11 = [ 1,2,3,4,5,5,5,5,6,7,8,9,10,12,1,42,45,43,46]    # Given list which has duplicats\n",
    "\n",
    "uniqie_list = []         # initialize the list\n",
    "\n",
    "for x in a11:\n",
    "    if x not in uniqie_list:\n",
    "        uniqie_list.append(x)\n",
    "    else :\n",
    "        print(\"Given list contains duplicates and fist duplicate in the list is :\" , x)\n",
    "        break\n",
    "        "
   ]
  },
  {
   "cell_type": "markdown",
   "metadata": {},
   "source": [
    "# 12. Create a program that prints the prime numbers in a given range using a 'for' loop."
   ]
  },
  {
   "cell_type": "markdown",
   "metadata": {},
   "source": [
    "prime number:a whole number greater than 1 that cannot be exactly divided by any whole number other than itself.\n",
    "\n",
    "so, to check 20 is prime number or not, we will check whether 20 is divisible by any number starting from 2 to 11\n",
    "\n",
    "similarly to check 50 is prime number or not, we will check whether 50 is divisible by any number starting from 2 to 26\n",
    "\n",
    "so to check n is prime number or not, we will check whether n is divisible by any number starting from 2 to (n/2) + 1"
   ]
  },
  {
   "cell_type": "code",
   "execution_count": 12,
   "metadata": {},
   "outputs": [
    {
     "name": "stdout",
     "output_type": "stream",
     "text": [
      "The prime numbers between 2 and 100\n",
      "--------------------------------------\n",
      "2\n",
      "3\n",
      "5\n",
      "7\n",
      "11\n",
      "13\n",
      "17\n",
      "19\n",
      "23\n",
      "29\n",
      "31\n",
      "37\n",
      "41\n",
      "43\n",
      "47\n",
      "53\n",
      "59\n",
      "61\n",
      "67\n",
      "71\n",
      "73\n",
      "79\n",
      "83\n",
      "89\n",
      "97\n"
     ]
    }
   ],
   "source": [
    "# Function to check whether given number n is prime or not\n",
    "def chk_prime(n):\n",
    "    \n",
    "    if n < 2:\n",
    "        return False\n",
    "    \n",
    "    for i in range(int(n/2) + 1 ):\n",
    "        if i > 1:\n",
    "            if n % i == 0 :\n",
    "                return False\n",
    "        \n",
    "    return True\n",
    "\n",
    "# Range to find the prime number\n",
    "\n",
    "n = 2\n",
    "m = 100\n",
    "\n",
    "print(f\"The prime numbers between {n} and {m}\")\n",
    "print(\"--------------------------------------\")\n",
    "for i in range(n , m):                    # loop through the range\n",
    "    if chk_prime(i):\n",
    "        print(i)\n",
    " "
   ]
  },
  {
   "cell_type": "markdown",
   "metadata": {},
   "source": [
    "# 13. Develop a program that counts the number of vowels in a string using a 'for' loop."
   ]
  },
  {
   "cell_type": "code",
   "execution_count": 13,
   "metadata": {},
   "outputs": [
    {
     "name": "stdout",
     "output_type": "stream",
     "text": [
      "The number of vowels in a string 'Jana-gana-mana-adhinayaka' is 11\n"
     ]
    }
   ],
   "source": [
    "a13 = \"Jana-gana-mana-adhinayaka\"\n",
    "\n",
    "\n",
    "vowel_list = [ 'a' , 'e' , 'i' ,'o' , 'u']\n",
    "\n",
    "num_of_vowels = 0\n",
    "for x in a13:\n",
    "    if x.lower() in vowel_list:\n",
    "        num_of_vowels += 1\n",
    "        \n",
    "print(f\"The number of vowels in a string \\'{a13}\\' is {num_of_vowels}\")\n",
    "        \n",
    "    "
   ]
  },
  {
   "cell_type": "markdown",
   "metadata": {},
   "source": [
    "# 14. Write a program to find the maximum element in a 2D list using a nested 'for' loop."
   ]
  },
  {
   "cell_type": "code",
   "execution_count": 14,
   "metadata": {},
   "outputs": [
    {
     "name": "stdout",
     "output_type": "stream",
     "text": [
      "The maxmium element in 2D list [[1, 2, 3, 4, 5], [6, 7, 8, 9, 10], [46, 47, 48, 49, 50], [26, 27, 28, 29, 30], [36, 37, 38, 39, 40]] is.....................: 50\n"
     ]
    }
   ],
   "source": [
    "# Example of 2D list\n",
    "\n",
    "a14 = [ [1, 2, 3, 4, 5], [6, 7, 8, 9, 10] , [46, 47, 48, 49, 50] ,[26, 27, 28, 29, 30] , [36, 37, 38, 39, 40] ]\n",
    "\n",
    "max_value = 0\n",
    "\n",
    "for i in range(len(a14)):\n",
    "    if isinstance(a14[i],list):     # checking if element is list\n",
    "        for j in range(len(a14[i])):\n",
    "            if ( a14[i][j] ) >= max_value :\n",
    "                max_value = a14[i][j]                                                             \n",
    "                      \n",
    "    else :\n",
    "        if a[i] >= max_value :\n",
    "            max_value = a14[i]\n",
    "                      \n",
    "            \n",
    "print(f\"The maxmium element in 2D list {a14} is.....................: {max_value}\")"
   ]
  },
  {
   "cell_type": "markdown",
   "metadata": {},
   "source": [
    "# 15. Create a program that removes all occurrences of a specific element from a list using for loop"
   ]
  },
  {
   "cell_type": "code",
   "execution_count": 15,
   "metadata": {},
   "outputs": [
    {
     "name": "stdout",
     "output_type": "stream",
     "text": [
      "All occurrences of a specific element 5 got removed from a list [1, 2, 3, 4, 5, 5, 5, 5, 6, 7, 8, 9, 10, 12, 1, 42, 45, 43, 46] and new list is : [1, 2, 3, 4, 6, 7, 8, 9, 10, 12, 1, 42, 45, 43, 46]\n"
     ]
    }
   ],
   "source": [
    "a15 = [ 1,2,3,4,5,5,5,5,6,7,8,9,10,12,1,42,45,43,46]    # Given list\n",
    "\n",
    "n = 5         # specific elment\n",
    "\n",
    "#Remove all occurrences of a specific element(5) from a list(a15) using for loop\n",
    "\n",
    "output_list = []\n",
    "for x in a15:\n",
    "    if x != n :              # check the specific element\n",
    "        output_list.append(x)\n",
    "\n",
    "print(f\"All occurrences of a specific element {n} got removed from a list {a15} and new list is : {output_list}\")\n",
    "        \n",
    "        "
   ]
  },
  {
   "cell_type": "markdown",
   "metadata": {},
   "source": [
    "# 16. Develop a program that generates a multiplication table for numbers from 1 to 5 using a nested fir loop"
   ]
  },
  {
   "cell_type": "code",
   "execution_count": 16,
   "metadata": {},
   "outputs": [
    {
     "name": "stdout",
     "output_type": "stream",
     "text": [
      "Multiplication table for numbers from 1 to 5 :\n",
      "--------------------------------------------------\n",
      "Table of  1 : 1, 2, 3, 4, 5, 6, 7, 8, 9, 10\n",
      "\n",
      "Table of  2 : 2, 4, 6, 8, 10, 12, 14, 16, 18, 20\n",
      "\n",
      "Table of  3 : 3, 6, 9, 12, 15, 18, 21, 24, 27, 30\n",
      "\n",
      "Table of  4 : 4, 8, 12, 16, 20, 24, 28, 32, 36, 40\n",
      "\n",
      "Table of  5 : 5, 10, 15, 20, 25, 30, 35, 40, 45, 50\n",
      "\n"
     ]
    }
   ],
   "source": [
    "# Multiplication table from n to m\n",
    "\n",
    "n = 1\n",
    "m = 5\n",
    "\n",
    "print(f\"Multiplication table for numbers from {n} to {m} :\")\n",
    "print(\"--------------------------------------------------\")\n",
    "\n",
    "for i in range(n , m +1):\n",
    "    print(\"Table of \",i , \":\" , end=\" \")\n",
    "    for j in range(1,11):\n",
    "        if j == 10:\n",
    "            print((i * j), end=\"\") \n",
    "        else :\n",
    "            print((i * j), end=\", \") \n",
    "            \n",
    "    print(\"\\n\")\n",
    "    \n"
   ]
  },
  {
   "cell_type": "markdown",
   "metadata": {},
   "source": [
    "# 17. Write a program that converts a list of Fahrenheight temperature to celsius using a for loop"
   ]
  },
  {
   "cell_type": "markdown",
   "metadata": {},
   "source": [
    "The Fahrenheit to Celsius formula is expressed as °C = (°F - 32) × 5/9"
   ]
  },
  {
   "cell_type": "code",
   "execution_count": 17,
   "metadata": {},
   "outputs": [
    {
     "name": "stdout",
     "output_type": "stream",
     "text": [
      "The list of Fahrenheight temperature [0, 30, 40, 50, 60, 70, 80, 100] to celsius temperature [-17.78, -1.11, 4.44, 10.0, 15.56, 21.11, 26.67, 37.78]\n"
     ]
    }
   ],
   "source": [
    "a17 = [0, 30 , 40 , 50 , 60 , 70 , 80 , 100  ] # list of Fahrenheight temperature\n",
    "\n",
    "output_list = []\n",
    "\n",
    "for x in a17:\n",
    "    c =  round(((x-32) * ( 5 /9 )),2)    # converting f to c and rounding it to 2 decimal place\n",
    "    output_list.append(c)\n",
    "    \n",
    "print(f\"The list of Fahrenheight temperature {a17} to celsius temperature {output_list}\")\n",
    "    "
   ]
  },
  {
   "cell_type": "markdown",
   "metadata": {},
   "source": [
    "# 18. Create a program to print the common elements from two lists using a for loop"
   ]
  },
  {
   "cell_type": "code",
   "execution_count": 18,
   "metadata": {},
   "outputs": [
    {
     "name": "stdout",
     "output_type": "stream",
     "text": [
      "The common elements from two listes [2, 4, 6, 8, 10, 12, 14, 16, 18, 20, 22, 24, 26, 28, 30] and [6, 12, 18, 24, 30, 36, 42, 48, 54, 60] is    :  [6, 12, 18, 24, 30]\n"
     ]
    }
   ],
   "source": [
    "a18 = [ 2,4,6,8,10,12,14,16,18,20,22,24,26,28,30]    # first  list\n",
    "\n",
    "b18 = [ 6, 12, 18, 24, 30, 36, 42 ,48, 54 , 60]      # second list\n",
    "\n",
    "common_element_list = []        #initialize the list\n",
    "\n",
    "for x in a18:\n",
    "    if x in b18:\n",
    "        common_element_list.append(x)\n",
    "\n",
    "print(f\"The common elements from two listes {a18} and { b18} is    :  {common_element_list}\")\n",
    "        \n",
    "        "
   ]
  },
  {
   "cell_type": "markdown",
   "metadata": {},
   "source": [
    "# 19. Develop a program that prints the pattern of right-angled trialngle using a for loop. use * to draw the pattern"
   ]
  },
  {
   "cell_type": "markdown",
   "metadata": {},
   "source": [
    "*\n",
    "* *\n",
    "* * *\n",
    "* * * *\n",
    "* * * * *\n",
    "\n",
    "Basic algorithm : 1st row will have 1, 2nd row will have -2 and so on"
   ]
  },
  {
   "cell_type": "code",
   "execution_count": 20,
   "metadata": {},
   "outputs": [
    {
     "name": "stdout",
     "output_type": "stream",
     "text": [
      "*\n",
      "* *\n",
      "* * *\n",
      "* * * *\n",
      "* * * * *\n",
      "* * * * * *\n",
      "* * * * * * *\n"
     ]
    }
   ],
   "source": [
    "# program to prints the pattern of right-angled trialngle\n",
    "\n",
    "symbol = '*'            # to display the figure\n",
    "n = 7                   # how many rows you want to print\n",
    "\n",
    "for i in range ( 1, (n+1)):\n",
    "    for j in range(1 , i+1):\n",
    "        if i == j :\n",
    "            print(symbol)                 # so that next print on seperate line\n",
    "        else :\n",
    "            print(symbol , end = ' ')     # so that next print on same line with space\n",
    "         "
   ]
  },
  {
   "cell_type": "markdown",
   "metadata": {},
   "source": [
    "# 20. write a program to determine the greatest common divisor (GCD) of two numbers using for loop"
   ]
  },
  {
   "cell_type": "markdown",
   "metadata": {},
   "source": [
    "GCD means greatest common divisor . GCD of 20,30 is 10 means any number between 1 to 20 which divides both number will be GCD"
   ]
  },
  {
   "cell_type": "code",
   "execution_count": 21,
   "metadata": {},
   "outputs": [
    {
     "name": "stdout",
     "output_type": "stream",
     "text": [
      "The GCD of two numbers 48 and 90 is    :  6\n"
     ]
    }
   ],
   "source": [
    "# To Find GCD\n",
    "\n",
    "def find_gcd(num1,num2):\n",
    "    \n",
    "    gcd = 1             # initialize the gcd to 1\n",
    "    \n",
    "    k = min(num1,num2)           # get the minimum of two given number\n",
    "    \n",
    "    for i in range(k,0,-1):    # starts with highest index to 1 with step -1\n",
    "        \n",
    "        if ( num1 % i == 0 ) and ( num2 % i == 0 ) :     # if i divides both number\n",
    "            gcd = i\n",
    "            return gcd\n",
    "           \n",
    "n = 48\n",
    "m = 90\n",
    "\n",
    "print(f\"The GCD of two numbers {n} and {m} is    :  {find_gcd(n,m)}\" )"
   ]
  },
  {
   "cell_type": "markdown",
   "metadata": {},
   "source": [
    "# ADVANCED LEVEL"
   ]
  },
  {
   "cell_type": "markdown",
   "metadata": {},
   "source": [
    "# 21. Create a program that calculates the sum of the digits of numbers in list using a list comprehension"
   ]
  },
  {
   "cell_type": "code",
   "execution_count": 22,
   "metadata": {},
   "outputs": [
    {
     "name": "stdout",
     "output_type": "stream",
     "text": [
      "The sum of the numbers in list [1, 2, 3, 4, 5, 5, 5, 5, 6, 7, 8, 9, 10, 12, 1, 42, 45, 43, 46] is: 259\n"
     ]
    }
   ],
   "source": [
    "# to get the sum of numbers in list\n",
    "\n",
    "b21 = [1, 2, 3, 4, 5, 5, 5, 5, 6, 7, 8, 9, 10, 12, 1, 42, 45, 43, 46]  # Given list\n",
    "\n",
    "# Ensure 'sum' is not used as a variable name\n",
    "# using list comprehension method\n",
    "\n",
    "result = sum(i for i in b21)\n",
    "\n",
    "print(f\"The sum of the numbers in list {b21} is: {result}\")\n"
   ]
  },
  {
   "cell_type": "code",
   "execution_count": 23,
   "metadata": {},
   "outputs": [
    {
     "name": "stdout",
     "output_type": "stream",
     "text": [
      "The sum of the digits of number in list [8, 19, 24, 56, 78, 101, 112, 145] is : [8, 10, 6, 11, 15, 2, 4, 10]\n"
     ]
    }
   ],
   "source": [
    "# To get the sum of digits of number in list\n",
    "\n",
    "c21 = [ 8 , 19, 24, 56, 78 , 101 , 112, 145]    # Given list\n",
    "\n",
    "# Define a function to calculate the sum of digits of that number\n",
    "def sumofdigits(num):\n",
    "    \n",
    "    if num == 0:\n",
    "        return 0\n",
    "    else :\n",
    "        return int(num % 10) + sumofdigits(int(num/10))\n",
    "    \n",
    "result_list = [sumofdigits(x) for x in c21]\n",
    "\n",
    "print(f\"The sum of the digits of number in list {c21} is : {result_list}\")"
   ]
  },
  {
   "cell_type": "code",
   "execution_count": 24,
   "metadata": {},
   "outputs": [
    {
     "name": "stdout",
     "output_type": "stream",
     "text": [
      "The sum of the digits of number in list [8, 19, 24, 56, 78, 101, 112, 145] is : [8, 10, 6, 11, 15, 2, 4, 10]\n"
     ]
    }
   ],
   "source": [
    "# we can get the result list with python map method as well where function applied to each element of iterator\n",
    "\n",
    "result_list1 = list(map(sumofdigits , c21))\n",
    "\n",
    "print(f\"The sum of the digits of number in list {c21} is : {result_list1}\")"
   ]
  },
  {
   "cell_type": "markdown",
   "metadata": {},
   "source": [
    "# 22. Write a program to find the prime factor of a given numbers using a for loop and list comprehension"
   ]
  },
  {
   "cell_type": "markdown",
   "metadata": {},
   "source": [
    "A prime factor is a natural number, other than 1, whose only factors are 1 and itself. The first few prime numbers are actually 2, 3, 5, 7, 11, and so on. \n",
    "\n",
    "so, prime factor of 6  = 2 * 3\n",
    "\n",
    "prime factor of 30  = 2 * 3 * 5\n",
    "\n",
    "For divisibility: we check to divide x from 2 to int(x/2) + 1 "
   ]
  },
  {
   "cell_type": "code",
   "execution_count": 25,
   "metadata": {},
   "outputs": [],
   "source": [
    "# to Find the prime factor\n",
    "\n",
    "def prime_factor(n):       \n",
    "    prime_factor_list = []        # list to store prime factor\n",
    "\n",
    "    if n >= 2:\n",
    "        for i in range(2,(int(n/2)+1)):   # check the divisibility of n ( from 1 to n/2 +1)\n",
    "            if chk_prime(i) :       # We have written function to check a number is prime or not,so using that function\n",
    "                while n % i == 0:     # do the steps until it's divisible\n",
    "                    prime_factor_list.append(i)   # append the prime factor list\n",
    "                    n = n/i         # reduce the value of n\n",
    "        if n > 2 and chk_prime(n):        # for prime case\n",
    "            prime_factor_list.append(n)\n",
    "            \n",
    "                   \n",
    "    return prime_factor_list\n",
    "    \n"
   ]
  },
  {
   "cell_type": "code",
   "execution_count": 26,
   "metadata": {},
   "outputs": [
    {
     "name": "stdout",
     "output_type": "stream",
     "text": [
      "The list of prime factor 30 is : [2, 3, 5]\n",
      "\n",
      "The list of prime factor 48 is : [2, 2, 2, 2, 3]\n",
      "\n",
      "The list of prime factor 96 is : [2, 2, 2, 2, 2, 3]\n",
      "\n",
      "The list of prime factor 250 is : [2, 5, 5, 5]\n",
      "\n",
      "The list of prime factor 13 is : [13]\n",
      "\n"
     ]
    }
   ],
   "source": [
    "# test the above function\n",
    " \n",
    "a23 = 30 \n",
    "b23 = 48 \n",
    "c23 = 96 \n",
    "d23 = 250\n",
    "e23 = 13\n",
    "\n",
    "print(f\"The list of prime factor {a23} is : {prime_factor(a23)}\\n\")\n",
    "print(f\"The list of prime factor {b23} is : {prime_factor(b23)}\\n\")\n",
    "print(f\"The list of prime factor {c23} is : {prime_factor(c23)}\\n\")\n",
    "print(f\"The list of prime factor {d23} is : {prime_factor(d23)}\\n\")\n",
    "print(f\"The list of prime factor {e23} is : {prime_factor(e23)}\\n\")"
   ]
  },
  {
   "cell_type": "markdown",
   "metadata": {},
   "source": [
    "# 23. Develop a program that extracts unique elements from a list and stores them in new list using a list comprehension"
   ]
  },
  {
   "cell_type": "markdown",
   "metadata": {},
   "source": [
    "1st way: By using set as set contain only uniue element"
   ]
  },
  {
   "cell_type": "code",
   "execution_count": 27,
   "metadata": {},
   "outputs": [
    {
     "name": "stdout",
     "output_type": "stream",
     "text": [
      "The list of uniue elements is [{1, 2, 3, 4, 5, 6, 7, 8, 9, 10, 42, 12, 45, 43, 46}] after removing duplicates from list [1, 2, 3, 4, 5, 5, 5, 5, 6, 7, 8, 9, 10, 12, 1, 42, 45, 43, 46]\n"
     ]
    }
   ],
   "source": [
    "# we know that set has unique element while list may have duplicate. \n",
    "# so, if we can form set from list ...duplicate will be eliminated\n",
    "\n",
    "a23 = [ 1,2,3,4,5,5,5,5,6,7,8,9,10,12,1,42,45,43,46]    # Given list\n",
    "\n",
    "#result_unique_list = list(set(a23))\n",
    "\n",
    "result_unique_list = [{x for x in a23}]\n",
    "\n",
    "print(f\"The list of uniue elements is {result_unique_list} after removing duplicates from list {a23}\")\n"
   ]
  },
  {
   "cell_type": "markdown",
   "metadata": {},
   "source": [
    "# 24. Create a program that generates a list of all palindromic numbers up to a specified limit using a list comprehension"
   ]
  },
  {
   "cell_type": "code",
   "execution_count": 28,
   "metadata": {},
   "outputs": [
    {
     "name": "stdout",
     "output_type": "stream",
     "text": [
      "[0, 1, 2, 3, 4, 5, 6, 7, 8, 9, 11, 22, 33, 44, 55, 66, 77, 88, 99, 101, 111, 121, 131, 141, 151, 161, 171, 181, 191]\n"
     ]
    }
   ],
   "source": [
    "# function to check palindrome\n",
    "def chk_palindrom(n):\n",
    "    \n",
    "    input_str = str(n)\n",
    "    input_str_rev = str(n)[: : -1]       #reverse of the string\n",
    "    \n",
    "    if input_str == input_str_rev :      # if string and its reversal are equal , call pallindrome\n",
    "        return True\n",
    "    else :\n",
    "        return False\n",
    "        \n",
    "# to set limit\n",
    "n = 200\n",
    "\n",
    "pallindromic_num_list = [ x for x in range(n) if chk_palindrom(x)]\n",
    "\n",
    "print(pallindromic_num_list)\n"
   ]
  },
  {
   "cell_type": "markdown",
   "metadata": {},
   "source": [
    "# 25. Write a program to flatten a nested list using list comprehension."
   ]
  },
  {
   "cell_type": "code",
   "execution_count": 29,
   "metadata": {},
   "outputs": [
    {
     "name": "stdout",
     "output_type": "stream",
     "text": [
      "[1, 2, 3, 4, 5, 6, 7, 8, 9]\n"
     ]
    }
   ],
   "source": [
    "a25 = [[1,2,3] , [4,5,6] , [7,8,9]]         # Input list\n",
    "\n",
    "flatten_list = [y for x in a25 for y in x]    # nested list comprehension\n",
    "\n",
    "print(flatten_list)"
   ]
  },
  {
   "cell_type": "markdown",
   "metadata": {},
   "source": [
    "# 26. Develop a program that computes the sum of even and odd numbers in a list separately using list comprehension."
   ]
  },
  {
   "cell_type": "code",
   "execution_count": 30,
   "metadata": {},
   "outputs": [
    {
     "name": "stdout",
     "output_type": "stream",
     "text": [
      "[130, 129]\n"
     ]
    }
   ],
   "source": [
    "a26 = [ 1,2,3,4,5,5,5,5,6,7,8,9,10,12,1,42,45,43,46]\n",
    "\n",
    "even_sum = sum(x for x in a26 if x%2 == 0 )     # filter out even number\n",
    "\n",
    "odd_sum = sum(x for x in a26 if x%2 != 0 )      # filter out odd number\n",
    "\n",
    "# to computes the sum of even and odd numbers in a list separately using list comprehension.\n",
    "\n",
    "result_even_odd_sum = [sum(x for x in a26 if x%2 == 0 ) , sum(x for x in a26 if x%2 != 0 )]\n",
    "\n",
    "print(result_even_odd_sum)"
   ]
  },
  {
   "cell_type": "markdown",
   "metadata": {},
   "source": [
    "# 27. Create a program that generates a list of squares of odd numbers between l and 10 using list comprehension."
   ]
  },
  {
   "cell_type": "code",
   "execution_count": 31,
   "metadata": {},
   "outputs": [
    {
     "name": "stdout",
     "output_type": "stream",
     "text": [
      "[1, 9, 25, 49, 81]\n"
     ]
    }
   ],
   "source": [
    "# to generates a list of squares of odd numbers between l and 10 using list comprehension.\n",
    "\n",
    "list_sqr_of_odd_num = [x**2 for x in range(1,11) if x%2 != 0]\n",
    "\n",
    "print(list_sqr_of_odd_num)"
   ]
  },
  {
   "cell_type": "markdown",
   "metadata": {},
   "source": [
    "# 28. Write a program that combines two lists into a dictionary using list comprehension."
   ]
  },
  {
   "cell_type": "markdown",
   "metadata": {},
   "source": [
    "Python's zip() function creates an iterator that will aggregate elements from two or more iterables. \n",
    "\n",
    "The zip() function returns a zip object, which is an iterator of tuples where the first item in each passed iterator is paired together, and then the second item in each passed iterator are paired together .\n",
    "\n",
    "Example:\n",
    "a = (\"John\", \"Charles\", \"Mike\")\n",
    "b = (\"Jenny\", \"Christy\", \"Monica\")\n",
    "\n",
    "x = zip(a, b)\n",
    "\n",
    "output :\n",
    "\n",
    "(('John', 'Jenny'), ('Charles', 'Christy'), ('Mike', 'Monica'))"
   ]
  },
  {
   "cell_type": "code",
   "execution_count": 33,
   "metadata": {},
   "outputs": [
    {
     "name": "stdout",
     "output_type": "stream",
     "text": [
      "{'a': 1, 'b': 2, 'c': 3, 'd': 4}\n"
     ]
    }
   ],
   "source": [
    "a28 = [\"a\" , \"b\" , 'c' , 'd']       # first list\n",
    "\n",
    "b28 = [ 1, 2, 3, 4]                 # second list\n",
    "\n",
    "result_two_list = {x:y for x,y in zip(a28 ,b28 )}      # using zip function \n",
    "\n",
    "print(result_two_list)"
   ]
  },
  {
   "cell_type": "markdown",
   "metadata": {},
   "source": [
    "# 29. Develop a program that extracts the vowels from a string and stores them in a list using list comprehension."
   ]
  },
  {
   "cell_type": "code",
   "execution_count": 34,
   "metadata": {},
   "outputs": [
    {
     "name": "stdout",
     "output_type": "stream",
     "text": [
      "Extracting vowels from a string \"Jana-gana-mana-adhinayaka\" and stores them in a list ['a', 'a', 'a', 'a', 'a', 'a', 'a', 'i', 'a', 'a', 'a'] \n"
     ]
    }
   ],
   "source": [
    "# To Extracts thw vowels from string \n",
    "\n",
    "a29 = \"Jana-gana-mana-adhinayaka\"         # input list\n",
    "\n",
    "vowel_str = 'aeiouAEIOU'                  # vowel string\n",
    "\n",
    "result_list = [x for x in a29 if x in vowel_str]\n",
    "\n",
    "print(f\"Extracting vowels from a string \\\"{a29}\\\" and stores them in a list {result_list} \")"
   ]
  },
  {
   "cell_type": "markdown",
   "metadata": {},
   "source": [
    "# 30. Create a program that removes all non-numeric characters from a list of strings using list comprehension."
   ]
  },
  {
   "cell_type": "code",
   "execution_count": 35,
   "metadata": {},
   "outputs": [
    {
     "name": "stdout",
     "output_type": "stream",
     "text": [
      "After removal all non-numeric character from list of strings ['a', '1', '2', '3', 'b', '4', 'r']  is : ['1', '2', '3', '4']\n"
     ]
    }
   ],
   "source": [
    "a30 = [ 'a' , '1' , '2' , '3' ,'b' , '4' , 'r']\n",
    "\n",
    "result_list = [x for x in a30 if x.isnumeric() ]\n",
    "\n",
    "print(f\"After removal all non-numeric character from list of strings {a30}  is : {result_list}\")"
   ]
  },
  {
   "cell_type": "markdown",
   "metadata": {},
   "source": [
    "# Challenge Level:"
   ]
  },
  {
   "cell_type": "markdown",
   "metadata": {},
   "source": [
    "# 31. Write a program to generate a list of prime numbers using the Sieve of Eratosthenes algorithm and list comprehension."
   ]
  },
  {
   "cell_type": "markdown",
   "metadata": {},
   "source": [
    "Following is the algorithm to find all the prime numbers less than or equal to a given integer n by the Eratosthene’s method: \n",
    "\n",
    "When the algorithm terminates, all the numbers in the list that are not marked are prime.\n",
    "\n",
    "Let us take an example when n = 100. So, we need to print all prime numbers smaller than or equal to 100. \n",
    "\n",
    "1. We create a list of all numbers from 2 to 100. \n",
    "2. We will mark all the numbers which are divisible by 2 and are greater than or equal to the square of it. \n",
    "Prime number:2\n",
    "3. Now we move to our next unmarked number 3 and mark all the numbers which are multiples of 3 and are greater than or equal to the square of it.\n",
    "Prime number:2,3\n",
    "4. We move to our next unmarked number 5 and mark all multiples of 5 and are greater than or equal to the square of it.  \n",
    "Prime number:2,3,5\n",
    "5. We move to our next unmarked number 7 and mark all multiples of 7 and are greater than or equal to the square of it.  \n",
    "Prime number:2,3,5,7\n",
    "6. We continue this process, \n",
    "\n",
    "So, the prime numbers are the unmarked ones: 2, 3, 5, 7, 11, 13, 17, 19, 23, 29, 31, 37, 41, 43, 47, 53, 59, 61, 67, 71, 73, 79, 83, 89 and 97."
   ]
  },
  {
   "cell_type": "code",
   "execution_count": 109,
   "metadata": {},
   "outputs": [
    {
     "name": "stdout",
     "output_type": "stream",
     "text": [
      "2, 3, 5, 7, 11, 13, 17, 19, 23, 29, 31, 37, 41, 43, 47, 53, 59, 61, 67, 71, 73, 79, 83, 89, 97, "
     ]
    }
   ],
   "source": [
    "# let's the limit is 200\n",
    "\n",
    "n = 100\n",
    "\n",
    "# Creating a list of boolean which stores the True/False and respective index will be number associated with it. \n",
    "# True/False denotes whether respective index is prime or not. We will start with all markes as true and will update with false.\n",
    "\n",
    "bool_num_table = [True for x in range(n+1)]    # Creating boolean number table from 0 to 25 and all indexes stores True\n",
    "\n",
    "# oth index and 1st index will mark as False because 0 and 1 are not prime\n",
    "\n",
    "bool_num_table[0] = False\n",
    "bool_num_table[1] = False\n",
    "\n",
    "# We will start with 2\n",
    "\n",
    "for i in range (2,(int(n/2)+1)):     # start to check divisibility from 2 to n/2 +1\n",
    "    if bool_num_table[i] == True :   # check if's it true then will try to mark \n",
    "        #while (i*i <=n):\n",
    "            for j in range((i*i),n+1 ,i):     # start with equal to greater than suqare of number with step = that number\n",
    "                bool_num_table[j] = False      \n",
    "                \n",
    "                \n",
    "#Print prime number\n",
    "for i in range(n+1):\n",
    "    if bool_num_table[i]:\n",
    "        print(i , end =', ')\n",
    "        \n",
    "        "
   ]
  },
  {
   "cell_type": "code",
   "execution_count": 42,
   "metadata": {},
   "outputs": [
    {
     "name": "stdout",
     "output_type": "stream",
     "text": [
      "a list of prime numbers up to 100 using the Sieve of Eratosthenes algorithm :   [2, 3, 5, 7, 11, 13, 17, 19, 23, 29, 31, 37, 41, 43, 47, 53, 59, 61, 67, 71, 73, 79, 83, 89, 97] \n",
      "a list of prime numbers up to 3 using the Sieve of Eratosthenes algorithm :   [2, 3] \n",
      "a list of prime numbers up to 2 using the Sieve of Eratosthenes algorithm :   [2] \n",
      "a list of prime numbers up to 200 using the Sieve of Eratosthenes algorithm :   [2, 3, 5, 7, 11, 13, 17, 19, 23, 29, 31, 37, 41, 43, 47, 53, 59, 61, 67, 71, 73, 79, 83, 89, 97, 101, 103, 107, 109, 113, 127, 131, 137, 139, 149, 151, 157, 163, 167, 173, 179, 181, 191, 193, 197, 199] \n"
     ]
    }
   ],
   "source": [
    "# We can write our own function with above approach\n",
    "\n",
    "def generate_prime_num__Using_Sieve_of_Eratosthenes(n):\n",
    "    \n",
    "    # Creating boolean number table from 0 to 25 and all indexes stores True\n",
    "    bool_num_table = [True for x in range(n+1)]\n",
    "    \n",
    "    prime_num_list = []      # list to store the prime number\n",
    "    \n",
    "    # return the empty list if n < 2\n",
    "    if n < 2:\n",
    "        return prime_num_list \n",
    "        \n",
    "    # if n >= 2\n",
    "    \n",
    "    # oth index and 1st index will mark as False because 0 and 1 are not prime\n",
    "    bool_num_table[0] = False\n",
    "    bool_num_table[1] = False\n",
    "    \n",
    "    # We will start with 2\n",
    "    \n",
    "    for i in range (2,(int(n/2)+1)):     # start to check divisibility from 2 to n/2 +1\n",
    "        if bool_num_table[i] == True :   # check if's it true then will try to mark \n",
    "            \n",
    "            # start with equal to greater than suqare of number with step = that number            \n",
    "            for j in range((i*i),n+1 ,i):\n",
    "                bool_num_table[j] = False \n",
    "                \n",
    "    # Check the index of bool_num_table for prime number and create list of prime number\n",
    "    for i in range(n+1):\n",
    "        if bool_num_table[i]:\n",
    "            prime_num_list.append(i)\n",
    "            \n",
    "    #Return the list of prime number\n",
    "    \n",
    "    return prime_num_list        \n",
    "    \n",
    " \n",
    "#Test the above function\n",
    "\n",
    "n = 100\n",
    "print(f\"a list of prime numbers up to {n} using the Sieve of Eratosthenes algorithm :   {generate_prime_num__Using_Sieve_of_Eratosthenes(n)} \")\n",
    "    \n",
    "n =3\n",
    "print(f\"a list of prime numbers up to {n} using the Sieve of Eratosthenes algorithm :   {generate_prime_num__Using_Sieve_of_Eratosthenes(n)} \")\n",
    "\n",
    "n =2\n",
    "print(f\"a list of prime numbers up to {n} using the Sieve of Eratosthenes algorithm :   {generate_prime_num__Using_Sieve_of_Eratosthenes(n)} \")\n",
    " \n",
    "n = 200\n",
    "print(f\"a list of prime numbers up to {n} using the Sieve of Eratosthenes algorithm :   {generate_prime_num__Using_Sieve_of_Eratosthenes(n)} \")"
   ]
  },
  {
   "cell_type": "markdown",
   "metadata": {},
   "source": [
    "# 32. Create a program that generates a list of all Pythagorean triplets up to a specified limit using list comprehension."
   ]
  },
  {
   "cell_type": "markdown",
   "metadata": {},
   "source": [
    "A Pythagorean triple consists of three positive integers a, b, and c, such that a2 + b2 = c2. Such a triple is commonly written (a, b, c"
   ]
  },
  {
   "cell_type": "code",
   "execution_count": 110,
   "metadata": {},
   "outputs": [
    {
     "data": {
      "text/plain": [
       "[(3, 4, 5), (8, 6, 10), (5, 12, 13), (15, 8, 17)]"
      ]
     },
     "execution_count": 110,
     "metadata": {},
     "output_type": "execute_result"
    }
   ],
   "source": [
    "# 1st way\n",
    "\n",
    "def create_pytho_triplets(n):\n",
    "    a = b = c = 0\n",
    "    m = 2\n",
    "    triple_num = []\n",
    "    \n",
    "    while c < n:\n",
    "        for i in range(1, m, 1):\n",
    "            a = m*m - i*i\n",
    "            b = 2*m*i\n",
    "            c = m*m + i*i\n",
    "            if c > n:\n",
    "                break\n",
    "            triple_num.append((a, b, c))\n",
    "        m += 1\n",
    "        \n",
    "    return triple_num\n",
    "\n",
    "# To Test the above function\n",
    "\n",
    "create_pytho_triplets(17)"
   ]
  },
  {
   "cell_type": "code",
   "execution_count": 111,
   "metadata": {},
   "outputs": [
    {
     "data": {
      "text/plain": [
       "[(3, 4, 5), (5, 12, 13), (6, 8, 10), (8, 15, 17), (9, 12, 15)]"
      ]
     },
     "execution_count": 111,
     "metadata": {},
     "output_type": "execute_result"
    }
   ],
   "source": [
    "# 2nd way using for loops\n",
    "\n",
    "n = 17\n",
    "def create_pytho_triplets_2nd_way(n):\n",
    "    a = b = c = 0\n",
    "    triple_num = []\n",
    "    for a in range(1, n + 1):\n",
    "        for b in range(a, n + 1):\n",
    "            for c in range(b, n + 1):\n",
    "                if a**2 + b**2 == c**2 :\n",
    "                    triple_num.append((a, b, c))\n",
    "                    \n",
    "    return triple_num                 \n",
    "    \n",
    "# To Test the above function\n",
    "\n",
    "create_pytho_triplets_2nd_way(17)"
   ]
  },
  {
   "cell_type": "code",
   "execution_count": 112,
   "metadata": {},
   "outputs": [
    {
     "name": "stdout",
     "output_type": "stream",
     "text": [
      "[(3, 4, 5), (5, 12, 13), (6, 8, 10), (8, 15, 17), (9, 12, 15)]\n"
     ]
    }
   ],
   "source": [
    "#3rd way using list comprehension\n",
    "n= 17\n",
    "\n",
    "print([(a, b, c) for a in range(1, n + 1) for b in range(a, n + 1)\n",
    "       for c in range(b, n + 1) if a**2 + b**2 == c**2])\n"
   ]
  },
  {
   "cell_type": "markdown",
   "metadata": {},
   "source": [
    "# 33. Develop a program that generates a list of all possible combinations of two  lists using list comprehension."
   ]
  },
  {
   "cell_type": "code",
   "execution_count": 102,
   "metadata": {},
   "outputs": [],
   "source": [
    "list_1 = [\"a\", \"b\", \"c\",\"d\"]\n",
    "list_2 = [1,4,9]\n",
    "\n",
    "# one to one mapping from two list\n",
    "\n",
    "list_result = [ x for x in zip(list_1 , list_2)]\n",
    "\n",
    "# Cartisan product from two list\n",
    "\n",
    "possible_combination_of_two_list = [[x ,y] for x in list_1 for y in list_2 ]\n",
    "\n"
   ]
  },
  {
   "cell_type": "code",
   "execution_count": 103,
   "metadata": {},
   "outputs": [
    {
     "data": {
      "text/plain": [
       "[['a', 1],\n",
       " ['a', 4],\n",
       " ['a', 9],\n",
       " ['b', 1],\n",
       " ['b', 4],\n",
       " ['b', 9],\n",
       " ['c', 1],\n",
       " ['c', 4],\n",
       " ['c', 9],\n",
       " ['d', 1],\n",
       " ['d', 4],\n",
       " ['d', 9]]"
      ]
     },
     "execution_count": 103,
     "metadata": {},
     "output_type": "execute_result"
    }
   ],
   "source": [
    "possible_combination_of_two_list"
   ]
  },
  {
   "cell_type": "markdown",
   "metadata": {},
   "source": [
    "# 34. Write a program that calculates the mean, median, and mode of a list of numbers using list comprehension."
   ]
  },
  {
   "cell_type": "code",
   "execution_count": 75,
   "metadata": {},
   "outputs": [
    {
     "name": "stdout",
     "output_type": "stream",
     "text": [
      "The mean of a list [1, 2, 3, 4, 1, 1, 1, 2, 3, 4, 6, 7, 4, 5, 5] of numbers is 3.2666666666666666\n",
      "The median of a list [1, 1, 1, 1, 2, 2, 3, 3, 4, 4, 4, 5, 5, 6, 7] of numbers is 3\n",
      "The mode of a list [1, 1, 1, 1, 2, 2, 3, 3, 4, 4, 4, 5, 5, 6, 7] of numbers is [1]\n"
     ]
    }
   ],
   "source": [
    "#let;s suppose we have list of numbers\n",
    "\n",
    "input_list_of_num = [ 1,2,3,4,1,1,1,2,3,4,6,7,4,5,5]\n",
    "\n",
    "# 1. Mean using list comprehension : mean is average = sum of numbers/Number of numbersin list\n",
    "mean_of_input_list_of_num =  sum(input_list_of_num)/len(input_list_of_num)\n",
    "\n",
    "print(f\"The mean of a list {input_list_of_num} of numbers is {mean_of_input_list_of_num}\")\n",
    "\n",
    "# 2. Median using list comprehension : middle number of sorted list\n",
    "\n",
    "# sort the list\n",
    "input_list_of_num.sort()\n",
    "\n",
    "#Length of list\n",
    "m = len(input_list_of_num)\n",
    "\n",
    "# For odd numbers(count), mediam is number at (n+1)/2  \n",
    "# For even number(Count), mediam is average of n/2 and n/2 +1 th number\n",
    "\n",
    "if m % 2 == 0:         # Count is even\n",
    "    median_of_input_list_of_num   = ( input_list_of_num[(int(m/2))-1] + input_list_of_num[(int(m/2))] ) / 2\n",
    "    \n",
    "else :\n",
    "    median_of_input_list_of_num = input_list_of_num[int((m+1)/2)-1]\n",
    "    \n",
    "\n",
    "print(f\"The median of a list {input_list_of_num} of numbers is {median_of_input_list_of_num}\")\n",
    "\n",
    "\n",
    "# 3. Mode using list comprehension : mode is the number which appears most number of times\n",
    "\n",
    "#Creating a dictionary where key is number and values is number of times that number appears in list\n",
    "\n",
    "#dict_frew_num_in_input_list_of_num = {x:y } \n",
    "# where x is unique number = x = set(input_list_of_num) \n",
    "# and y = number of times x appears in input_list_of_num,so y = input_list_of_num.count(x)\n",
    "\n",
    "dict_frew_num_in_input_list_of_num = {x:input_list_of_num.count(x) for x in set(input_list_of_num)}\n",
    "\n",
    "# Mode will be the key whose valyes will be maxmium in above dictionary\n",
    "mode_of_input_list_of_num = [x for x,y in dict_frew_num_in_input_list_of_num.items() if y == max(dict_frew_num_in_input_list_of_num.values())]\n",
    "\n",
    "\n",
    "print(f\"The mode of a list {input_list_of_num} of numbers is {mode_of_input_list_of_num}\")"
   ]
  },
  {
   "cell_type": "markdown",
   "metadata": {},
   "source": [
    "# 35. Create a program that generates Pascal's triangle up to a specified number of rows using list comprehension."
   ]
  },
  {
   "cell_type": "markdown",
   "metadata": {},
   "source": [
    "Pascal’s triangle is a pattern of the triangle which is based on nCr, below is the pictorial representation of Pascal’s triangle.\n",
    "\n",
    "Example:\n",
    "\n",
    "Input: N = 5\n",
    "Output:\n",
    "      1\n",
    "     1 1\n",
    "    1 2 1\n",
    "   1 3 3 1\n",
    "  1 4 6 4 1\n",
    "  \n",
    "           0C0\n",
    "       1C0   1C1\n",
    "    2C0   2C1   2C2\n",
    " 3C0   3C1   3C2    3C3\n",
    " \n",
    " "
   ]
  },
  {
   "cell_type": "code",
   "execution_count": 78,
   "metadata": {},
   "outputs": [
    {
     "name": "stdout",
     "output_type": "stream",
     "text": [
      "      1 \n",
      "     1 1 \n",
      "    1 2 1 \n",
      "   1 3 3 1 \n",
      "  1 4 6 4 1 \n"
     ]
    }
   ],
   "source": [
    "#number of rows to be printed\n",
    "n = 5       \n",
    "\n",
    "for i in range(n):         # to print the rows\n",
    "    for j in range(n-i+1): # To print the left spacing\n",
    " \n",
    "        # for left spacing\n",
    "        print(end=\" \")\n",
    " \n",
    "    for j in range(i+1):\n",
    " \n",
    "        # nCr = n!/((n-r)!*r!)\n",
    "        print(calc_factorial(i)//(calc_factorial(j)*calc_factorial(i-j)), end=\" \")    # Print nCr of i and j\n",
    " \n",
    "    # for new line\n",
    "    print()"
   ]
  },
  {
   "cell_type": "markdown",
   "metadata": {},
   "source": [
    "2nd way to get using power of 11\n",
    "\n",
    "11**0 = 1\n",
    "11**1 = 11\n",
    "11**2 = 121\n",
    "11**3 = 1331"
   ]
  },
  {
   "cell_type": "code",
   "execution_count": 84,
   "metadata": {},
   "outputs": [
    {
     "name": "stdout",
     "output_type": "stream",
     "text": [
      "     1\n",
      "    1 1\n",
      "   1 2 1\n",
      "  1 3 3 1\n",
      " 1 4 6 4 1\n"
     ]
    }
   ],
   "source": [
    "\n",
    "# input n\n",
    "n = 5\n",
    " \n",
    "# iterarte upto n\n",
    "for i in range(n):\n",
    "    # adjust space\n",
    "    print(' '*(n-i), end='')\n",
    " \n",
    "    # compute power of 11\n",
    "    print(' '.join(map(str, str(11**i))))"
   ]
  },
  {
   "cell_type": "code",
   "execution_count": 99,
   "metadata": {},
   "outputs": [
    {
     "name": "stdout",
     "output_type": "stream",
     "text": [
      "      1 \n",
      "     1 1 \n",
      "    1 2 1 \n",
      "   1 3 3 1 \n",
      "  1 4 6 4 1 \n"
     ]
    }
   ],
   "source": [
    "#3rd way : Using list\n",
    "\n",
    "n = 5    # number of rows\n",
    "\n",
    "#Creating list using '1' and number of items in rows\n",
    "\n",
    "list_of_rows = [[1] * (i + 1) for i in range(n)]\n",
    "\n",
    "# output will be  list_of_rows =   [[1], [1, 1], [1, 1, 1], [1, 1, 1, 1], [1, 1, 1, 1, 1]]\n",
    "\n",
    "for i in range(2, n):\n",
    "    for j in range(1, i):\n",
    "        list_of_rows[i][j] = list_of_rows[i-1][j-1] + list_of_rows[i-1][j]\n",
    "\n",
    "\n",
    "# output after for loop will be  list_of_rows =   [[1], [1, 1], [1, 2, 1], [1, 3, 3, 1], [1, 4, 6, 4, 1]]\n",
    "\n",
    "# now print the list\n",
    "for i in range(n):\n",
    "    for j in range(n-i+1):                   # To print the left spacing\n",
    "        # for left spacing\n",
    "        print(end=\" \")\n",
    "    for j in range(i+1):                     # To print the rows\n",
    "        print(list_of_rows[i][j], end=\" \")\n",
    "    print()                                  # Go to next line after printing row\n",
    "    \n"
   ]
  },
  {
   "cell_type": "markdown",
   "metadata": {},
   "source": [
    "# 36. Develop a program that calculates the sum of the digits of a factorial of numbers from l to 5 using list comprehension."
   ]
  },
  {
   "cell_type": "code",
   "execution_count": 15,
   "metadata": {},
   "outputs": [
    {
     "data": {
      "text/plain": [
       "479001600"
      ]
     },
     "execution_count": 15,
     "metadata": {},
     "output_type": "execute_result"
    }
   ],
   "source": [
    "#Writing a function to calculate factorial of given number\n",
    "\n",
    "def calc_factorial(n):\n",
    "    factorial = 1          # initialize the value\n",
    "    \n",
    "    for i in range(1,(n+1)): \n",
    "        factorial *= i\n",
    "        \n",
    "    return factorial   \n",
    "    \n",
    "# to test above function\n",
    "\n",
    "calc_factorial(12)"
   ]
  },
  {
   "cell_type": "code",
   "execution_count": 26,
   "metadata": {},
   "outputs": [
    {
     "name": "stdout",
     "output_type": "stream",
     "text": [
      "List of factorial number from 1 to 5 is : [1, 2, 6, 24, 120]\n",
      "the sum of the digits of a factorial of numbers from l to 5 using list comprehension is : 18\n"
     ]
    }
   ],
   "source": [
    "# list of factorial of numbers from l to 5\n",
    "\n",
    "list_of_factorial_num = [calc_factorial(n) for n in range(1,6)]\n",
    "\n",
    "print(f\"List of factorial number from 1 to 5 is : {list_of_factorial_num}\")\n",
    "\n",
    "#The sum of the digits of a factorial of numbers from l to 5 using list comprehension ,using function sum_of_digits created in q#39\n",
    "list_of_sum_of_digits_of_factorial_num  = [ sum_of_digits(calc_factorial(n)) for n in range(1,6)]\n",
    "\n",
    "# the sum of the digits of a factorial of numbers from l to 5 using list comprehension\n",
    "\n",
    "sum_of_digits_of_factorial_num = sum([ sum_of_digits(calc_factorial(n)) for n in range(1,6)])\n",
    "\n",
    "print(f\"the sum of the digits of a factorial of numbers from l to 5 using list comprehension is : {sum_of_digits_of_factorial_num}\")\n"
   ]
  },
  {
   "cell_type": "markdown",
   "metadata": {},
   "source": [
    "# 37. Write a program that finds the longest word in a sentence using list comprehension."
   ]
  },
  {
   "cell_type": "code",
   "execution_count": 10,
   "metadata": {},
   "outputs": [
    {
     "name": "stdout",
     "output_type": "stream",
     "text": [
      "the longest word in a sentence Python is a high level general purpose programming languageusing list comprehension is : \"programming\"\n"
     ]
    }
   ],
   "source": [
    "# Let's suppose given sentence is\n",
    "input_sentence = 'Python is a high level general purpose programming language'\n",
    "\n",
    "#Converting sentence into list of words by splitting with space\n",
    "list_of_words_in_sentence = input_sentence.split(\" \")\n",
    "\n",
    "#creating a dictionary where length os key and respective string is values using list comprehension\n",
    "dict_of_words_with_length = {len(x):x for x in list_of_words_in_sentence}\n",
    "\n",
    "#Maxmium length in the dictonary\n",
    "max_length_of_words = max(list(dict_of_words_with_length.keys()))\n",
    "\n",
    "#The longest word in a sentence\n",
    "longest_word = dict_of_words_with_length[max_length_of_words]\n",
    "\n",
    "print(f\"the longest word in a sentence {input_sentence }using list comprehension is : \\\"{longest_word}\\\"\")"
   ]
  },
  {
   "cell_type": "code",
   "execution_count": 11,
   "metadata": {},
   "outputs": [
    {
     "name": "stdout",
     "output_type": "stream",
     "text": [
      "the longest word in a sentence Rising Star is an American reality television singing competition which began airing on ABC using list comprehension is : \"competition\"\n"
     ]
    }
   ],
   "source": [
    "# 2nd way to get the longest words in a sentence\n",
    "\n",
    "# Let's suppose given sentence is\n",
    "input_sentence_2 = 'Rising Star is an American reality television singing competition which began airing on ABC'\n",
    "\n",
    "#Converting sentence into list of words by splitting with space\n",
    "list_of_words_in_sentence_2 = input_sentence_2.split(\" \")\n",
    "\n",
    "#Maxmium length in the dictonary\n",
    "list_of_length_of_words_in_sentence_2 = [ len(x) for x in list_of_words_in_sentence_2 ]\n",
    "\n",
    "#Longest word will be word at index (whose length is maxmium)\n",
    "longest_word_2 = list_of_words_in_sentence_2[list_of_length_of_words_in_sentence_2.index(max([ len(x) for x in list_of_words_in_sentence_2 ]))]\n",
    "\n",
    "print(f\"the longest word in a sentence {input_sentence_2 } using list comprehension is : \\\"{longest_word_2}\\\"\")"
   ]
  },
  {
   "cell_type": "markdown",
   "metadata": {},
   "source": [
    "# 38. Create a program that filters a list of strings to include only those with more than three vowels using list comprehension."
   ]
  },
  {
   "cell_type": "code",
   "execution_count": 85,
   "metadata": {},
   "outputs": [],
   "source": [
    "# Define a function which will return true if given string contains more than 3 vowels else return False\n",
    "\n",
    "def chk_str_for_num_of_vowels(input_str,n):    # n - to check number of vowels\n",
    "    count = 0\n",
    "    for x in input_str:\n",
    "        if x.lower() in 'aeiou':\n",
    "            count += 1\n",
    "            \n",
    "    if count > n :\n",
    "        return True\n",
    "    else :\n",
    "        return False"
   ]
  },
  {
   "cell_type": "code",
   "execution_count": 91,
   "metadata": {},
   "outputs": [
    {
     "name": "stdout",
     "output_type": "stream",
     "text": [
      "True\n",
      "False\n"
     ]
    }
   ],
   "source": [
    "# To check above function\n",
    "\n",
    "print(chk_str_for_num_of_vowels(\"abhishekab\" , 3))\n",
    "\n",
    "print(chk_str_for_num_of_vowels(\"abhishek\" , 3))\n",
    "\n"
   ]
  },
  {
   "cell_type": "code",
   "execution_count": 96,
   "metadata": {},
   "outputs": [
    {
     "name": "stdout",
     "output_type": "stream",
     "text": [
      "filtered list of strings ['abhishekab', 'FLOWERFLOWER', 'abhishek', 'calculates', 'nidhi'] to include only those with more than three vowels : ['abhishekab', 'FLOWERFLOWER', 'calculates']\n"
     ]
    }
   ],
   "source": [
    "#a program that filters a list of strings to include only those with more than three vowels using list comprehension\n",
    "\n",
    "list_of_given_str = [ 'abhishekab' , 'FLOWERFLOWER' , 'abhishek' , 'calculates' , 'nidhi']\n",
    "\n",
    "filtered_list_of_given_str = [ x for x in list_of_given_str if chk_str_for_num_of_vowels(x,3)]\n",
    "\n",
    "print(f\"filtered list of strings {list_of_given_str} to include only those with more than three vowels : {filtered_list_of_given_str}\")"
   ]
  },
  {
   "cell_type": "markdown",
   "metadata": {},
   "source": [
    "# 39. Develop a program that calculates the sum of the digits of numbers from l to 1000 using list comprehension."
   ]
  },
  {
   "cell_type": "markdown",
   "metadata": {},
   "source": [
    "Basic algorithm:\n",
    "\n",
    "sum of digits of number 12 = 1 + 2 = 3  => \n",
    "Sum of digits of number 126 = 1 + 2 + 6 = 9  => \n",
    "\n"
   ]
  },
  {
   "cell_type": "code",
   "execution_count": 18,
   "metadata": {},
   "outputs": [],
   "source": [
    "#Writing a function which returns the sum of digit of given number\n",
    "\n",
    "def sum_of_digits(n):\n",
    "    \n",
    "    sum_of_digit_in_num = n % 10       #Find the first digits   \n",
    "    while int(n/10) != 0 :\n",
    "        n = int(n/10)\n",
    "        sum_of_digit_in_num += n % 10       #Find the sum of digits\n",
    "        \n",
    "    \n",
    "    return sum_of_digit_in_num     \n",
    "            \n"
   ]
  },
  {
   "cell_type": "code",
   "execution_count": 19,
   "metadata": {},
   "outputs": [
    {
     "data": {
      "text/plain": [
       "2"
      ]
     },
     "execution_count": 19,
     "metadata": {},
     "output_type": "execute_result"
    }
   ],
   "source": [
    "sum_of_digits(11)"
   ]
  },
  {
   "cell_type": "code",
   "execution_count": 20,
   "metadata": {},
   "outputs": [
    {
     "name": "stdout",
     "output_type": "stream",
     "text": [
      "the sum of the digits of numbers from l to 1000 : 13501\n"
     ]
    }
   ],
   "source": [
    "#Develop a program that calculates the sum of the digits of numbers from l to 1000 using list comprehension\n",
    "\n",
    "#List of sum of digits from 1 to 1000\n",
    "list_of_sum_of_digits_up_to_n = [sum_of_digits(n) for n in range(1,1001)]\n",
    "\n",
    "#the sum of the digits of numbers from l to 1000\n",
    "sum_of_digits_up_to_n = sum([sum_of_digits(n) for n in range(1,1001)])\n",
    "\n",
    "print(f\"the sum of the digits of numbers from l to 1000 : {sum_of_digits_up_to_n}\")"
   ]
  },
  {
   "cell_type": "markdown",
   "metadata": {},
   "source": [
    "# 40. Write a program that generates a list of prime palindromic numbers using list comprehension."
   ]
  },
  {
   "cell_type": "markdown",
   "metadata": {},
   "source": [
    "For prime palindromic numbers : We need to check prime as well as palindrom"
   ]
  },
  {
   "cell_type": "code",
   "execution_count": 36,
   "metadata": {},
   "outputs": [
    {
     "name": "stdout",
     "output_type": "stream",
     "text": [
      "[2, 3, 5, 7, 11, 101, 131, 151, 181, 191, 313, 353, 373, 383]\n",
      "[2, 3, 5, 7, 11, 101, 131, 151, 181, 191, 313, 353, 373, 383]\n"
     ]
    }
   ],
   "source": [
    "# to generates a list of prime palindromic numbers using list comprehension.\n",
    "# we have already written function to check prime - chk_prime() and to check palindrome - chk_palindrom()\n",
    "\n",
    "\n",
    "# to set limit\n",
    "n = 500\n",
    "\n",
    "#prime_pallindromic_num_list = [x for x in [x for x in range(2,n) if chk_prime(x) ] if chk_palindrom(x) ]\n",
    "\n",
    "prime_num_list = [x for x in range(2,n) if chk_prime(x) ]    # list of numbers for prime number \n",
    "\n",
    "prime_pallindrome_num_list = [ x for x in prime_num_list if chk_palindrom(x) ] # list of numbers for prime palindromic number \n",
    "\n",
    "#another way to write\n",
    "\n",
    "prime_pallindrome_num_list_1 = [x for x in [x for x in range(2,n) if chk_prime(x) ] if chk_palindrom(x)]\n",
    "\n",
    "\n",
    "print(prime_pallindrome_num_list)\n",
    "\n",
    "print(prime_pallindrome_num_list_1)\n",
    "\n"
   ]
  },
  {
   "cell_type": "code",
   "execution_count": null,
   "metadata": {},
   "outputs": [],
   "source": []
  }
 ],
 "metadata": {
  "kernelspec": {
   "display_name": "Python 3",
   "language": "python",
   "name": "python3"
  },
  "language_info": {
   "codemirror_mode": {
    "name": "ipython",
    "version": 3
   },
   "file_extension": ".py",
   "mimetype": "text/x-python",
   "name": "python",
   "nbconvert_exporter": "python",
   "pygments_lexer": "ipython3",
   "version": "3.8.5"
  }
 },
 "nbformat": 4,
 "nbformat_minor": 4
}
